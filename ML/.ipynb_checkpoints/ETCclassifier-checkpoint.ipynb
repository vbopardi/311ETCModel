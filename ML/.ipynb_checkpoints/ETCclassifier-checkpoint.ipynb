{
 "cells": [
  {
   "cell_type": "code",
   "execution_count": 1,
   "metadata": {},
   "outputs": [],
   "source": [
    "import pandas as pd\n",
    "import numpy as np \n",
    "from sklearn.preprocessing import LabelEncoder\n",
    "from sklearn.preprocessing import OneHotEncoder\n",
    "from sklearn.model_selection import train_test_split\n",
    "from sklearn import metrics\n",
    "from datetime import datetime\n",
    "from sklearn.naive_bayes import GaussianNB\n",
    "from sklearn import tree\n",
    "from sklearn.ensemble import RandomForestClassifier\n",
    "from sklearn.linear_model import LogisticRegression"
   ]
  },
  {
   "cell_type": "markdown",
   "metadata": {},
   "source": [
    "# Load Data"
   ]
  },
  {
   "cell_type": "code",
   "execution_count": 2,
   "metadata": {},
   "outputs": [
    {
     "name": "stderr",
     "output_type": "stream",
     "text": [
      "/Users/varunbopardikar/anaconda3/lib/python3.7/site-packages/IPython/core/interactiveshell.py:3057: DtypeWarning: Columns (10,33) have mixed types. Specify dtype option on import or set low_memory=False.\n",
      "  interactivity=interactivity, compiler=compiler, result=result)\n"
     ]
    }
   ],
   "source": [
    "def gsev(val): \n",
    "    \"\"\"\n",
    "    Records whether or not a number is greater than 7. \n",
    "    \"\"\"\n",
    "    if val <= 7: \n",
    "        return 0\n",
    "    else: \n",
    "        return 1\n",
    "\n",
    "df = pd.read_csv('../../fservice.csv')\n",
    "df['Just Date'] = df['Just Date'].apply(lambda x: datetime.strptime(x,'%Y-%m-%d'))\n",
    "df['Seven'] = df['ElapsedDays'].apply(gsev, 0)"
   ]
  },
  {
   "cell_type": "markdown",
   "metadata": {},
   "source": [
    "# Parameters "
   ]
  },
  {
   "cell_type": "code",
   "execution_count": 3,
   "metadata": {},
   "outputs": [],
   "source": [
    "c = ['Anonymous','AssignTo', 'RequestType', 'RequestSource','CD','Direction', 'ActionTaken', 'APC' ,'AddressVerified']\n",
    "d = ['Latitude', 'Longitude']"
   ]
  },
  {
   "cell_type": "markdown",
   "metadata": {},
   "source": [
    "# Feature Cleaning "
   ]
  },
  {
   "cell_type": "code",
   "execution_count": 4,
   "metadata": {},
   "outputs": [
    {
     "name": "stderr",
     "output_type": "stream",
     "text": [
      "/Users/varunbopardikar/anaconda3/lib/python3.7/site-packages/sklearn/preprocessing/_encoders.py:415: FutureWarning: The handling of integer data will change in version 0.22. Currently, the categories are determined based on the range [0, max(values)], while in the future they will be determined based on the unique values.\n",
      "If you want the future behaviour and silence this warning, you can specify \"categories='auto'\".\n",
      "In case you used a LabelEncoder before this OneHotEncoder to convert the categories to integers, then you can now use the OneHotEncoder directly.\n",
      "  warnings.warn(msg, FutureWarning)\n"
     ]
    }
   ],
   "source": [
    "#Put desired columns into dataframe, drop nulls. \n",
    "dfn = df.filter(items = c + d + ['ElapsedDays'] + ['Seven'])\n",
    "dfn = dfn.dropna()\n",
    "    \n",
    "#Separate data into explanatory and response variables\n",
    "XCAT = dfn.filter(items = c).values\n",
    "XNUM = dfn.filter(items = d).values\n",
    "    \n",
    "y = dfn['ElapsedDays'] <= 7\n",
    "    \n",
    "#Encode cateogrical data and merge with numerical data\n",
    "labelencoder_X = LabelEncoder()\n",
    "for num in range(len(c)): \n",
    "    XCAT[:, num] = labelencoder_X.fit_transform(XCAT[:, num])\n",
    "            \n",
    "onehotencoder = OneHotEncoder()\n",
    "XCAT = onehotencoder.fit_transform(XCAT).toarray()\n",
    "    \n",
    "X = np.concatenate((XCAT, XNUM), axis=1)"
   ]
  },
  {
   "cell_type": "markdown",
   "metadata": {},
   "source": [
    "# Algorithms and Hyperparameters"
   ]
  },
  {
   "cell_type": "code",
   "execution_count": 5,
   "metadata": {},
   "outputs": [],
   "source": [
    "##Used Random Forest in Final Model \n",
    "\n",
    "gnb = GaussianNB()\n",
    "dc = tree.DecisionTreeClassifier(criterion = 'entropy', max_depth = 20)\n",
    "rf = RandomForestClassifier(n_estimators = 50, max_depth = 20)\n",
    "lr = LogisticRegression()"
   ]
  },
  {
   "cell_type": "markdown",
   "metadata": {},
   "source": [
    "# Validation Set"
   ]
  },
  {
   "cell_type": "code",
   "execution_count": 6,
   "metadata": {},
   "outputs": [
    {
     "name": "stdout",
     "output_type": "stream",
     "text": [
      "Accuracy: 0.9385983549336814\n",
      "Precision, Recall, F1Score: (0.946896616482519, 0.9893259382317161, 0.9676463908853341, None)\n"
     ]
    }
   ],
   "source": [
    "X_train, X_test, y_train, y_test = train_test_split(X, y, test_size = 0.2, random_state = 0)\n",
    "X_train, X_val, y_train, y_val = train_test_split(X_train, y_train, test_size = 0.2, random_state = 0)\n",
    "\n",
    "#Train Model\n",
    "classifier = rf\n",
    "\n",
    "classifier.fit(X_train, y_train)\n",
    "\n",
    "#Test model\n",
    "y_vpred = classifier.predict(X_val)\n",
    "\n",
    "#Print Accuracy Function results\n",
    "print(\"Accuracy:\",metrics.accuracy_score(y_val, y_vpred))\n",
    "print(\"Precision, Recall, F1Score:\",metrics.precision_recall_fscore_support(y_val, y_vpred, average = 'binary'))"
   ]
  },
  {
   "cell_type": "markdown",
   "metadata": {},
   "source": [
    "# Test Set"
   ]
  },
  {
   "cell_type": "code",
   "execution_count": 7,
   "metadata": {},
   "outputs": [
    {
     "name": "stdout",
     "output_type": "stream",
     "text": [
      "Accuracy: 0.9387186223709323\n",
      "Precision, Recall, F1Score: (0.9468199376863904, 0.9895874917412928, 0.9677314319565967, None)\n"
     ]
    }
   ],
   "source": [
    "#Train Model\n",
    "\n",
    "#Test model\n",
    "y_tpred = classifier.predict(X_test)\n",
    "\n",
    "#Print Accuracy Function results\n",
    "\n",
    "print(\"Accuracy:\",metrics.accuracy_score(y_test, y_tpred))\n",
    "print(\"Precision, Recall, F1Score:\",metrics.precision_recall_fscore_support(y_test, y_tpred, average = 'binary'))"
   ]
  }
 ],
 "metadata": {
  "kernelspec": {
   "display_name": "Python 3",
   "language": "python",
   "name": "python3"
  },
  "language_info": {
   "codemirror_mode": {
    "name": "ipython",
    "version": 3
   },
   "file_extension": ".py",
   "mimetype": "text/x-python",
   "name": "python",
   "nbconvert_exporter": "python",
   "pygments_lexer": "ipython3",
   "version": "3.7.3"
  }
 },
 "nbformat": 4,
 "nbformat_minor": 2
}
